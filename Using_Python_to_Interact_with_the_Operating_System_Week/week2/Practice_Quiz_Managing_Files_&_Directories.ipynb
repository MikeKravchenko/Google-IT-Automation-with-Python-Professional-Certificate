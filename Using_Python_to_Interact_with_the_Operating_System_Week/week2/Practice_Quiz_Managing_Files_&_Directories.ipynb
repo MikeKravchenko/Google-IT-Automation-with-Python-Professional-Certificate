{
 "metadata": {
  "language_info": {
   "codemirror_mode": {
    "name": "ipython",
    "version": 3
   },
   "file_extension": ".py",
   "mimetype": "text/x-python",
   "name": "python",
   "nbconvert_exporter": "python",
   "pygments_lexer": "ipython3",
   "version": 3
  },
  "orig_nbformat": 2
 },
 "nbformat": 4,
 "nbformat_minor": 2,
 "cells": [
  {
   "cell_type": "code",
   "execution_count": null,
   "metadata": {},
   "outputs": [],
   "source": [
    "# 1.Question 1\n",
    "# The create_python_script function creates a new python script in the current working directory, adds the line of comments to it declared by the 'comments' variable, and returns the size of the new file. Fill in the gaps to create a script called \"program.py\".\n",
    "\n",
    "import os\n",
    "def create_python_script(filename):\n",
    "    comments = \"# Start of a new Python program\"\n",
    "    with open(filename, \"w\") as f:\n",
    "        f.write(comments)\n",
    "    filesize = os.path.getsize(filename)\n",
    "    return(filesize)\n",
    "\n",
    "print(create_python_script(\"program.py\")) "
   ]
  }
 ]
}